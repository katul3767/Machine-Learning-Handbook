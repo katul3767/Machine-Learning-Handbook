{
 "cells": [
  {
   "cell_type": "markdown",
   "id": "d8d580a0",
   "metadata": {},
   "source": [
    "# Machine learning handbook"
   ]
  },
  {
   "cell_type": "markdown",
   "id": "aedb36de",
   "metadata": {},
   "source": [
    "Supervised Learning: Linear Regression"
   ]
  },
  {
   "cell_type": "code",
   "execution_count": null,
   "id": "ed6da7d3",
   "metadata": {},
   "outputs": [],
   "source": [
    "from sklearn.linear_model import LinearRegression\n",
    "model = LinearRegression()\n",
    "model.fit(X_train, y_train)\n",
    "predictions = model.predict(X_test)"
   ]
  },
  {
   "cell_type": "code",
   "execution_count": null,
   "id": "498d4280",
   "metadata": {},
   "outputs": [],
   "source": [
    "#Unsupervised Learning: K-Means Clustering\n",
    "from sklearn.cluster import KMeans\n",
    "model = KMeans(n_clusters=3)\n",
    "model.fit(X)\n",
    "labels = model.predict(X)\n",
    "\n",
    "#k-Nearest Neighbors (k-NN):\n",
    "from sklearn.neighbors import KNeighborsClassifier\n",
    "model = KNeighborsClassifier(n_neighbors=3)\n",
    "model.fit(X_train, y_train)\n",
    "predictions = model.predict(X_test)"
   ]
  },
  {
   "cell_type": "code",
   "execution_count": null,
   "id": "d782d055",
   "metadata": {},
   "outputs": [],
   "source": [
    "#Semi-Supervised Learning: Label Propagation\n",
    "from sklearn.semi_supervised import LabelPropagation\n",
    "model = LabelPropagation()\n",
    "model.fit(X_partially_labeled, y_partially_labeled)\n",
    "predictions = model.predict(X_unlabeled)"
   ]
  },
  {
   "cell_type": "code",
   "execution_count": null,
   "id": "78782834",
   "metadata": {},
   "outputs": [],
   "source": [
    "#Reinforcement Learning: Q-learning\n",
    "from keras.models import Sequential\n",
    "from keras.layers import Dense\n",
    "model = Sequential()\n",
    "env = gym.make('CartPole-v1')\n",
    "# Implement Q-learning algorith\n",
    "# Build Q-learning neural network"
   ]
  },
  {
   "cell_type": "code",
   "execution_count": null,
   "id": "60ab3ad6",
   "metadata": {},
   "outputs": [],
   "source": [
    "#Ensemble Learning: Random Forest\n",
    "from sklearn.ensemble import RandomForestClassifier\n",
    "model = RandomForestClassifier(n_estimators=100)\n",
    "model.fit(X_train, y_train)\n",
    "predictions = model.predict(X_test)"
   ]
  },
  {
   "cell_type": "code",
   "execution_count": null,
   "id": "b40d4e23",
   "metadata": {},
   "outputs": [],
   "source": [
    "#Instance-Based Learning: k-Nearest Neighbors (k-NN)\n",
    "from sklearn.neighbors import KNeighborsClassifier\n",
    "model = KNeighborsClassifier(n_neighbors=3)\n",
    "model.fit(X_train, y_train)\n",
    "predictions = model.predict(X_test)"
   ]
  },
  {
   "cell_type": "code",
   "execution_count": null,
   "id": "7a5abb0c",
   "metadata": {},
   "outputs": [],
   "source": [
    "#Association Rule Learning: Apriori Algorithm\n",
    "from mlxtend.frequent_patterns import apriori\n",
    "from mlxtend.preprocessing import TransactionEncoder\n",
    "# Prepare data in transaction format\n",
    "te = TransactionEncoder()\n",
    "te_ary = te.fit(data).transform(data)\n",
    "df = pd.DataFrame(te_ary, columns=te.columns_)\n",
    "frequent_itemsets = apriori(df, min_support=0.2, use_colnames=True)"
   ]
  },
  {
   "cell_type": "code",
   "execution_count": null,
   "id": "be73d47d",
   "metadata": {},
   "outputs": [],
   "source": [
    "#Support Vector Machines (SVM):\n",
    "from sklearn.svm import SVC\n",
    "model = SVC(kernel='linear')\n",
    "model.fit(X_train, y_train)\n",
    "predictions = model.predict(X_test)"
   ]
  },
  {
   "cell_type": "code",
   "execution_count": null,
   "id": "1c423f8f",
   "metadata": {},
   "outputs": [],
   "source": [
    "#Evaluation Metrics:\n",
    "from sklearn.metrics import accuracy_score, precision_score, recall_score,f1_score\n",
    "\n",
    "accuracy = accuracy_score(y_true, y_pred)\n",
    "precision = precision_score(y_true, y_pred)\n",
    "recall = recall_score(y_true, y_pred)\n",
    "f1 = f1_score(y_true, y_pred)"
   ]
  },
  {
   "cell_type": "code",
   "execution_count": null,
   "id": "a84eebb1",
   "metadata": {},
   "outputs": [],
   "source": [
    "#Feature Engineering: Feature Scaling\n",
    "\n",
    "#Feature Scaling\n",
    "from sklearn.preprocessing import StandardScaler\n",
    "scaler = StandardScaler()\n",
    "X_scaled = scaler.fit_transform(X)\n",
    "\n",
    "#One-Hot Encoding\n",
    "from sklearn.preprocessing import OneHotEncoder\n",
    "encoder = OneHotEncoder()\n",
    "encoded_data = encoder.fit_transform(data[['Category']])"
   ]
  },
  {
   "cell_type": "code",
   "execution_count": null,
   "id": "59a561c7",
   "metadata": {},
   "outputs": [],
   "source": [
    "#Hyperparameter Tuning: Grid Search\n",
    "from sklearn.model_selection import GridSearchCV\n",
    "parameters = {'C': [1, 10, 100], 'kernel': ['linear', 'rbf']}\n",
    "grid_search = GridSearchCV(SVC(), parameters, cv=5)\n",
    "grid_search.fit(X, y)"
   ]
  },
  {
   "cell_type": "code",
   "execution_count": null,
   "id": "bfa03eb7",
   "metadata": {},
   "outputs": [],
   "source": [
    "#Cross-Validation: k-Fold Cross-Validation\n",
    "from sklearn.model_selection import cross_val_score\n",
    "scores = cross_val_score(model, X, y, cv=5)"
   ]
  }
 ],
 "metadata": {
  "kernelspec": {
   "display_name": "Python 3 (ipykernel)",
   "language": "python",
   "name": "python3"
  },
  "language_info": {
   "codemirror_mode": {
    "name": "ipython",
    "version": 3
   },
   "file_extension": ".py",
   "mimetype": "text/x-python",
   "name": "python",
   "nbconvert_exporter": "python",
   "pygments_lexer": "ipython3",
   "version": "3.9.7"
  }
 },
 "nbformat": 4,
 "nbformat_minor": 5
}
