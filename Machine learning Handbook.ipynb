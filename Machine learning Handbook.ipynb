{
 "cells": [
  {
   "cell_type": "markdown",
   "id": "6d997fa6",
   "metadata": {},
   "source": [
    "# Machine learning handbook"
   ]
  },
  {
   "cell_type": "markdown",
   "id": "1686edef",
   "metadata": {},
   "source": [
    "Supervised Learning: Linear Regression"
   ]
  },
  {
   "cell_type": "code",
   "execution_count": null,
   "id": "eba954a8",
   "metadata": {},
   "outputs": [],
   "source": [
    "from sklearn.linear_model import LinearRegression\n",
    "model = LinearRegression()\n",
    "model.fit(X_train, y_train)\n",
    "predictions = model.predict(X_test)"
   ]
  },
  {
   "cell_type": "code",
   "execution_count": null,
   "id": "2afcb1f5",
   "metadata": {},
   "outputs": [],
   "source": [
    "#Unsupervised Learning: K-Means Clustering\n",
    "from sklearn.cluster import KMeans\n",
    "model = KMeans(n_clusters=3)\n",
    "model.fit(X)\n",
    "labels = model.predict(X)\n",
    "\n",
    "#k-Nearest Neighbors (k-NN):\n",
    "from sklearn.neighbors import KNeighborsClassifier\n",
    "model = KNeighborsClassifier(n_neighbors=3)\n",
    "model.fit(X_train, y_train)\n",
    "predictions = model.predict(X_test)"
   ]
  },
  {
   "cell_type": "code",
   "execution_count": null,
   "id": "be738db9",
   "metadata": {},
   "outputs": [],
   "source": [
    "#Semi-Supervised Learning: Label Propagation\n",
    "from sklearn.semi_supervised import LabelPropagation\n",
    "model = LabelPropagation()\n",
    "model.fit(X_partially_labeled, y_partially_labeled)\n",
    "predictions = model.predict(X_unlabeled)"
   ]
  },
  {
   "cell_type": "code",
   "execution_count": null,
   "id": "cf524de2",
   "metadata": {},
   "outputs": [],
   "source": [
    "#Reinforcement Learning: Q-learning\n",
    "from keras.models import Sequential\n",
    "from keras.layers import Dense\n",
    "model = Sequential()\n",
    "env = gym.make('CartPole-v1')\n",
    "# Implement Q-learning algorith\n",
    "# Build Q-learning neural network"
   ]
  },
  {
   "cell_type": "code",
   "execution_count": null,
   "id": "e645c1a4",
   "metadata": {},
   "outputs": [],
   "source": [
    "#Ensemble Learning: Random Forest\n",
    "from sklearn.ensemble import RandomForestClassifier\n",
    "model = RandomForestClassifier(n_estimators=100)\n",
    "model.fit(X_train, y_train)\n",
    "predictions = model.predict(X_test)"
   ]
  },
  {
   "cell_type": "code",
   "execution_count": null,
   "id": "0ba02006",
   "metadata": {},
   "outputs": [],
   "source": [
    "#Instance-Based Learning: k-Nearest Neighbors (k-NN)\n",
    "from sklearn.neighbors import KNeighborsClassifier\n",
    "model = KNeighborsClassifier(n_neighbors=3)\n",
    "model.fit(X_train, y_train)\n",
    "predictions = model.predict(X_test)"
   ]
  },
  {
   "cell_type": "code",
   "execution_count": null,
   "id": "a466a7dc",
   "metadata": {},
   "outputs": [],
   "source": [
    "#Association Rule Learning: Apriori Algorithm\n",
    "from mlxtend.frequent_patterns import apriori\n",
    "from mlxtend.preprocessing import TransactionEncoder\n",
    "# Prepare data in transaction format\n",
    "te = TransactionEncoder()\n",
    "te_ary = te.fit(data).transform(data)\n",
    "df = pd.DataFrame(te_ary, columns=te.columns_)\n",
    "frequent_itemsets = apriori(df, min_support=0.2, use_colnames=True)"
   ]
  },
  {
   "cell_type": "code",
   "execution_count": null,
   "id": "7b8e9aef",
   "metadata": {},
   "outputs": [],
   "source": [
    "#Support Vector Machines (SVM):\n",
    "from sklearn.svm import SVC\n",
    "model = SVC(kernel='linear')\n",
    "model.fit(X_train, y_train)\n",
    "predictions = model.predict(X_test)"
   ]
  },
  {
   "cell_type": "code",
   "execution_count": null,
   "id": "2e82ec7a",
   "metadata": {},
   "outputs": [],
   "source": [
    "#Evaluation Metrics:\n",
    "from sklearn.metrics import accuracy_score, precision_score, recall_score,f1_score\n",
    "\n",
    "accuracy = accuracy_score(y_true, y_pred)\n",
    "precision = precision_score(y_true, y_pred)\n",
    "recall = recall_score(y_true, y_pred)\n",
    "f1 = f1_score(y_true, y_pred)"
   ]
  },
  {
   "cell_type": "code",
   "execution_count": null,
   "id": "176ec15f",
   "metadata": {},
   "outputs": [],
   "source": [
    "#Feature Engineering: Feature Scaling\n",
    "\n",
    "#Feature Scaling\n",
    "from sklearn.preprocessing import StandardScaler\n",
    "scaler = StandardScaler()\n",
    "X_scaled = scaler.fit_transform(X)\n",
    "\n",
    "#One-Hot Encoding\n",
    "from sklearn.preprocessing import OneHotEncoder\n",
    "encoder = OneHotEncoder()\n",
    "encoded_data = encoder.fit_transform(data[['Category']])"
   ]
  },
  {
   "cell_type": "code",
   "execution_count": null,
   "id": "94002988",
   "metadata": {},
   "outputs": [],
   "source": [
    "#Hyperparameter Tuning: Grid Search\n",
    "from sklearn.model_selection import GridSearchCV\n",
    "parameters = {'C': [1, 10, 100], 'kernel': ['linear', 'rbf']}\n",
    "grid_search = GridSearchCV(SVC(), parameters, cv=5)\n",
    "grid_search.fit(X, y)"
   ]
  },
  {
   "cell_type": "code",
   "execution_count": null,
   "id": "9a16f6cd",
   "metadata": {},
   "outputs": [],
   "source": [
    "#Cross-Validation: k-Fold Cross-Validation\n",
    "from sklearn.model_selection import cross_val_score\n",
    "scores = cross_val_score(model, X, y, cv=5)"
   ]
  },
  {
   "cell_type": "markdown",
   "id": "c43dd0b4",
   "metadata": {},
   "source": [
    "# Neural Networks and Deep Learning:"
   ]
  },
  {
   "cell_type": "code",
   "execution_count": 2,
   "id": "4803ed1e",
   "metadata": {},
   "outputs": [
    {
     "name": "stderr",
     "output_type": "stream",
     "text": [
      "2024-01-18 00:33:18.136664: I tensorflow/core/platform/cpu_feature_guard.cc:193] This TensorFlow binary is optimized with oneAPI Deep Neural Network Library (oneDNN) to use the following CPU instructions in performance-critical operations:  AVX2 FMA\n",
      "To enable them in other operations, rebuild TensorFlow with the appropriate compiler flags.\n",
      "2024-01-18 00:33:18.792968: W tensorflow/compiler/xla/stream_executor/platform/default/dso_loader.cc:64] Could not load dynamic library 'libcudart.so.11.0'; dlerror: libcudart.so.11.0: cannot open shared object file: No such file or directory\n",
      "2024-01-18 00:33:18.793029: I tensorflow/compiler/xla/stream_executor/cuda/cudart_stub.cc:29] Ignore above cudart dlerror if you do not have a GPU set up on your machine.\n",
      "2024-01-18 00:33:23.227955: W tensorflow/compiler/xla/stream_executor/platform/default/dso_loader.cc:64] Could not load dynamic library 'libnvinfer.so.7'; dlerror: libnvinfer.so.7: cannot open shared object file: No such file or directory\n",
      "2024-01-18 00:33:23.228469: W tensorflow/compiler/xla/stream_executor/platform/default/dso_loader.cc:64] Could not load dynamic library 'libnvinfer_plugin.so.7'; dlerror: libnvinfer_plugin.so.7: cannot open shared object file: No such file or directory\n",
      "2024-01-18 00:33:23.228502: W tensorflow/compiler/tf2tensorrt/utils/py_utils.cc:38] TF-TRT Warning: Cannot dlopen some TensorRT libraries. If you would like to use Nvidia GPU with TensorRT, please make sure the missing libraries mentioned above are installed properly.\n",
      "2024-01-18 00:33:26.737874: W tensorflow/compiler/xla/stream_executor/platform/default/dso_loader.cc:64] Could not load dynamic library 'libcuda.so.1'; dlerror: libcuda.so.1: cannot open shared object file: No such file or directory\n",
      "2024-01-18 00:33:26.738193: W tensorflow/compiler/xla/stream_executor/cuda/cuda_driver.cc:265] failed call to cuInit: UNKNOWN ERROR (303)\n",
      "2024-01-18 00:33:26.738246: I tensorflow/compiler/xla/stream_executor/cuda/cuda_diagnostics.cc:156] kernel driver does not appear to be running on this host (atul-Inspiron-3584): /proc/driver/nvidia/version does not exist\n",
      "2024-01-18 00:33:26.739148: I tensorflow/core/platform/cpu_feature_guard.cc:193] This TensorFlow binary is optimized with oneAPI Deep Neural Network Library (oneDNN) to use the following CPU instructions in performance-critical operations:  AVX2 FMA\n",
      "To enable them in other operations, rebuild TensorFlow with the appropriate compiler flags.\n"
     ]
    }
   ],
   "source": [
    "#Feedforward Neural Network (Keras):\n",
    "from keras.models import Sequential\n",
    "from keras.layers import Dense\n",
    "model = Sequential()\n",
    "model.add(Dense(units=64, activation='relu', input_dim=8))\n",
    "model.add(Dense(units=1, activation='sigmoid'))\n",
    "\n",
    "#Convolutional Neural Network (CNN):\n",
    "\n",
    "from keras.models import Sequential\n",
    "from keras.layers import Conv2D, MaxPooling2D, Flatten, Dense\n",
    "model = Sequential()\n",
    "# Build CNN architecture"
   ]
  },
  {
   "cell_type": "code",
   "execution_count": null,
   "id": "23618ee6",
   "metadata": {},
   "outputs": [],
   "source": []
  }
 ],
 "metadata": {
  "kernelspec": {
   "display_name": "Python 3 (ipykernel)",
   "language": "python",
   "name": "python3"
  },
  "language_info": {
   "codemirror_mode": {
    "name": "ipython",
    "version": 3
   },
   "file_extension": ".py",
   "mimetype": "text/x-python",
   "name": "python",
   "nbconvert_exporter": "python",
   "pygments_lexer": "ipython3",
   "version": "3.9.7"
  }
 },
 "nbformat": 4,
 "nbformat_minor": 5
}
